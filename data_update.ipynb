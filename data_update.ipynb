{
 "cells": [
  {
   "cell_type": "markdown",
   "id": "486a7641-d21b-405c-bf69-dbd697035e9c",
   "metadata": {
    "tags": []
   },
   "source": [
    "# 데이터 병합"
   ]
  },
  {
   "cell_type": "markdown",
   "id": "710af036-409c-4841-badf-3efd39b04ba3",
   "metadata": {},
   "source": [
    "## 1. 데이터 불러오기"
   ]
  },
  {
   "cell_type": "code",
   "execution_count": 118,
   "id": "a3f954aa-daf1-451e-a07f-524aa6d769a5",
   "metadata": {},
   "outputs": [
    {
     "name": "stdout",
     "output_type": "stream",
     "text": [
      "<class 'pandas.core.frame.DataFrame'>\n",
      "RangeIndex: 283 entries, 0 to 282\n",
      "Data columns (total 9 columns):\n",
      " #   Column  Non-Null Count  Dtype  \n",
      "---  ------  --------------  -----  \n",
      " 0   번호      283 non-null    int64  \n",
      " 1   터미널명    283 non-null    object \n",
      " 2   구       283 non-null    object \n",
      " 3   동       283 non-null    object \n",
      " 4   주소      283 non-null    object \n",
      " 5   등록일자    283 non-null    object \n",
      " 6   보관대수    283 non-null    int64  \n",
      " 7   위도      283 non-null    float64\n",
      " 8   경도      283 non-null    float64\n",
      "dtypes: float64(2), int64(2), object(5)\n",
      "memory usage: 20.0+ KB\n"
     ]
    }
   ],
   "source": [
    "import pandas as pd\n",
    "\n",
    "df_terminal= pd.read_csv('data/경상남도 창원시_누비자 터미널_20211231.csv', sep=',', encoding='cp949')\n",
    "df_terminal.head()\n",
    "df_terminal.info()"
   ]
  },
  {
   "cell_type": "code",
   "execution_count": 119,
   "id": "8ca03684-5b7b-4d1a-8786-f4d3ed11e319",
   "metadata": {},
   "outputs": [
    {
     "name": "stdout",
     "output_type": "stream",
     "text": [
      "<class 'pandas.core.frame.DataFrame'>\n",
      "RangeIndex: 376909 entries, 0 to 376908\n",
      "Data columns (total 7 columns):\n",
      " #   Column  Non-Null Count   Dtype \n",
      "---  ------  --------------   ----- \n",
      " 0   자전거번호   376909 non-null  int64 \n",
      " 1   출발터미널   376909 non-null  int64 \n",
      " 2   출발일     376909 non-null  object\n",
      " 3   출발시간    376909 non-null  object\n",
      " 4   도착터미널   376909 non-null  int64 \n",
      " 5   도착일     376909 non-null  object\n",
      " 6   도착시간    376909 non-null  object\n",
      "dtypes: int64(3), object(4)\n",
      "memory usage: 20.1+ MB\n"
     ]
    }
   ],
   "source": [
    "df_nubi06 = pd.read_csv('data/누비자반납현황/창원시+무인대여공영자전거+누비자+대여반납이력_2018-03.csv', sep=',', encoding='cp949')\n",
    "df_nubi06.head()\n",
    "df_nubi06.info()"
   ]
  },
  {
   "cell_type": "code",
   "execution_count": 120,
   "id": "3654a9c0-90ab-407a-b320-41a8961fa54c",
   "metadata": {},
   "outputs": [
    {
     "name": "stdout",
     "output_type": "stream",
     "text": [
      "<class 'pandas.core.frame.DataFrame'>\n",
      "RangeIndex: 283 entries, 0 to 282\n",
      "Data columns (total 4 columns):\n",
      " #   Column  Non-Null Count  Dtype \n",
      "---  ------  --------------  ----- \n",
      " 0   번호      283 non-null    int64 \n",
      " 1   터미널명    283 non-null    object\n",
      " 2   주소      283 non-null    object\n",
      " 3   보관대수    283 non-null    int64 \n",
      "dtypes: int64(2), object(2)\n",
      "memory usage: 9.0+ KB\n"
     ]
    }
   ],
   "source": [
    "df_crawling= pd.read_csv('data/nubibike.csv', sep=',', encoding='cp949')\n",
    "df_crawling.head()\n",
    "df_crawling.info() "
   ]
  },
  {
   "cell_type": "markdown",
   "id": "c05f0ee7-bc59-4b46-8caf-f24047c07f23",
   "metadata": {},
   "source": [
    "## 2. 기존데이터와 최신데이터 병합"
   ]
  },
  {
   "cell_type": "code",
   "execution_count": 121,
   "id": "71a670bf-3114-4a63-8f13-cb96dee63d7c",
   "metadata": {},
   "outputs": [
    {
     "data": {
      "text/html": [
       "<div>\n",
       "<style scoped>\n",
       "    .dataframe tbody tr th:only-of-type {\n",
       "        vertical-align: middle;\n",
       "    }\n",
       "\n",
       "    .dataframe tbody tr th {\n",
       "        vertical-align: top;\n",
       "    }\n",
       "\n",
       "    .dataframe thead th {\n",
       "        text-align: right;\n",
       "    }\n",
       "</style>\n",
       "<table border=\"1\" class=\"dataframe\">\n",
       "  <thead>\n",
       "    <tr style=\"text-align: right;\">\n",
       "      <th></th>\n",
       "      <th>번호_x</th>\n",
       "      <th>터미널명</th>\n",
       "      <th>구</th>\n",
       "      <th>동</th>\n",
       "      <th>주소_x</th>\n",
       "      <th>등록일자</th>\n",
       "      <th>보관대수_x</th>\n",
       "      <th>위도</th>\n",
       "      <th>경도</th>\n",
       "      <th>번호_y</th>\n",
       "      <th>주소_y</th>\n",
       "      <th>보관대수_y</th>\n",
       "    </tr>\n",
       "  </thead>\n",
       "  <tbody>\n",
       "    <tr>\n",
       "      <th>0</th>\n",
       "      <td>220.0</td>\n",
       "      <td>3.15아트 센터 앞</td>\n",
       "      <td>마산회원구</td>\n",
       "      <td>양덕2동</td>\n",
       "      <td>경남 창원시 마산회원구 양덕동  531-2 공원</td>\n",
       "      <td>2011-08-05</td>\n",
       "      <td>19.0</td>\n",
       "      <td>35.225578</td>\n",
       "      <td>128.578438</td>\n",
       "      <td>199</td>\n",
       "      <td>경남 창원시 마산회원구 양덕동</td>\n",
       "      <td>19</td>\n",
       "    </tr>\n",
       "    <tr>\n",
       "      <th>1</th>\n",
       "      <td>152.0</td>\n",
       "      <td>GMB코리아</td>\n",
       "      <td>성산구</td>\n",
       "      <td>가음정동</td>\n",
       "      <td>경남 창원시 성산구 가음정동  394 도</td>\n",
       "      <td>2010-06-22</td>\n",
       "      <td>20.0</td>\n",
       "      <td>35.204804</td>\n",
       "      <td>128.679669</td>\n",
       "      <td>140</td>\n",
       "      <td>경남 창원시 성산구 가음정동</td>\n",
       "      <td>20</td>\n",
       "    </tr>\n",
       "    <tr>\n",
       "      <th>2</th>\n",
       "      <td>21.0</td>\n",
       "      <td>KPE창원공장 맞은편</td>\n",
       "      <td>의창구</td>\n",
       "      <td>팔용동</td>\n",
       "      <td>경남 창원시 의창구 팔용동  503-3 도</td>\n",
       "      <td>2009-05-13</td>\n",
       "      <td>17.0</td>\n",
       "      <td>35.246967</td>\n",
       "      <td>128.615294</td>\n",
       "      <td>9</td>\n",
       "      <td>경남 창원시 의창구 팔용동</td>\n",
       "      <td>17</td>\n",
       "    </tr>\n",
       "    <tr>\n",
       "      <th>3</th>\n",
       "      <td>197.0</td>\n",
       "      <td>KT마산지점앞</td>\n",
       "      <td>마산합포구</td>\n",
       "      <td>오동동</td>\n",
       "      <td>경남 창원시 마산합포구 서성동  66-14도로</td>\n",
       "      <td>2011-08-05</td>\n",
       "      <td>20.0</td>\n",
       "      <td>35.202998</td>\n",
       "      <td>128.571121</td>\n",
       "      <td>204</td>\n",
       "      <td>경남 창원시 마산합포구 서성동</td>\n",
       "      <td>20</td>\n",
       "    </tr>\n",
       "    <tr>\n",
       "      <th>4</th>\n",
       "      <td>125.0</td>\n",
       "      <td>KT앞(대우아파트맞은편)</td>\n",
       "      <td>성산구</td>\n",
       "      <td>상남동</td>\n",
       "      <td>경남 창원시 성산구 상남동  72-2대</td>\n",
       "      <td>2010-01-11</td>\n",
       "      <td>20.0</td>\n",
       "      <td>35.218987</td>\n",
       "      <td>128.678795</td>\n",
       "      <td>110</td>\n",
       "      <td>경남 창원시 성산구 상남동</td>\n",
       "      <td>20</td>\n",
       "    </tr>\n",
       "  </tbody>\n",
       "</table>\n",
       "</div>"
      ],
      "text/plain": [
       "    번호_x           터미널명      구     동                        주소_x        등록일자  \\\n",
       "0  220.0    3.15아트 센터 앞  마산회원구  양덕2동  경남 창원시 마산회원구 양덕동  531-2 공원  2011-08-05   \n",
       "1  152.0         GMB코리아    성산구  가음정동      경남 창원시 성산구 가음정동  394 도  2010-06-22   \n",
       "2   21.0    KPE창원공장 맞은편    의창구   팔용동     경남 창원시 의창구 팔용동  503-3 도  2009-05-13   \n",
       "3  197.0        KT마산지점앞  마산합포구   오동동   경남 창원시 마산합포구 서성동  66-14도로  2011-08-05   \n",
       "4  125.0  KT앞(대우아파트맞은편)    성산구   상남동       경남 창원시 성산구 상남동  72-2대  2010-01-11   \n",
       "\n",
       "   보관대수_x         위도          경도  번호_y                주소_y  보관대수_y  \n",
       "0    19.0  35.225578  128.578438   199   경남 창원시 마산회원구 양덕동       19  \n",
       "1    20.0  35.204804  128.679669   140    경남 창원시 성산구 가음정동       20  \n",
       "2    17.0  35.246967  128.615294     9     경남 창원시 의창구 팔용동       17  \n",
       "3    20.0  35.202998  128.571121   204   경남 창원시 마산합포구 서성동       20  \n",
       "4    20.0  35.218987  128.678795   110     경남 창원시 성산구 상남동       20  "
      ]
     },
     "execution_count": 121,
     "metadata": {},
     "output_type": "execute_result"
    }
   ],
   "source": [
    "df_merge = pd.merge(df_terminal, df_crawling, how='right', left_on = '터미널명', right_on='터미널명')\n",
    "df_merge.head()"
   ]
  },
  {
   "cell_type": "code",
   "execution_count": 122,
   "id": "7954d934-8ad5-4695-b9ae-26d2bc2028c1",
   "metadata": {},
   "outputs": [
    {
     "data": {
      "text/plain": [
       "번호_x      float64\n",
       "터미널명       object\n",
       "구          object\n",
       "동          object\n",
       "주소_x       object\n",
       "등록일자       object\n",
       "보관대수_x    float64\n",
       "위도        float64\n",
       "경도        float64\n",
       "번호_y        int64\n",
       "주소_y       object\n",
       "보관대수_y      int64\n",
       "dtype: object"
      ]
     },
     "execution_count": 122,
     "metadata": {},
     "output_type": "execute_result"
    }
   ],
   "source": [
    "df_merge.dtypes"
   ]
  },
  {
   "cell_type": "code",
   "execution_count": 123,
   "id": "a68a8ced-7650-4ddb-95ff-9289a0dafb1d",
   "metadata": {},
   "outputs": [],
   "source": [
    "df_merge = df_merge.dropna(axis=0)"
   ]
  },
  {
   "cell_type": "code",
   "execution_count": 124,
   "id": "113ea9d8-eee5-49f5-be48-5c61660acd8f",
   "metadata": {},
   "outputs": [],
   "source": [
    "df_merge['번호_x'] = df_merge['번호_x'].astype('int')"
   ]
  },
  {
   "cell_type": "code",
   "execution_count": 125,
   "id": "07ee887d-5646-413a-9f62-fffce1c3e3fd",
   "metadata": {},
   "outputs": [
    {
     "data": {
      "text/plain": [
       "번호_x        int32\n",
       "터미널명       object\n",
       "구          object\n",
       "동          object\n",
       "주소_x       object\n",
       "등록일자       object\n",
       "보관대수_x    float64\n",
       "위도        float64\n",
       "경도        float64\n",
       "번호_y        int64\n",
       "주소_y       object\n",
       "보관대수_y      int64\n",
       "dtype: object"
      ]
     },
     "execution_count": 125,
     "metadata": {},
     "output_type": "execute_result"
    }
   ],
   "source": [
    "df_merge.dtypes"
   ]
  },
  {
   "cell_type": "markdown",
   "id": "8efb20cf-ba8c-4d2b-ae23-b9c614bc2051",
   "metadata": {},
   "source": [
    "## 3. 최신데이터파일 생성"
   ]
  },
  {
   "cell_type": "code",
   "execution_count": 126,
   "id": "23921520-6e59-4fbd-95a3-fcce9d27bd28",
   "metadata": {},
   "outputs": [
    {
     "name": "stdout",
     "output_type": "stream",
     "text": [
      "{220: 199, 152: 140, 21: 9, 197: 204, 125: 110, 153: 84, 177: 97, 178: 145, 22: 10, 154: 142, 155: 235, 156: 87, 157: 86, 158: 143, 159: 85, 6: 264, 7: 265, 179: 96, 160: 144, 136: 74, 73: 132, 55: 38, 234: 212, 56: 108, 168: 246, 249: 284, 250: 176, 251: 221, 100: 47, 91: 44, 23: 6, 231: 226, 229: 240, 230: 249, 74: 60, 237: 152, 256: 180, 92: 40, 57: 125, 274: 292, 188: 211, 161: 88, 169: 90, 137: 141, 101: 45, 206: 159, 207: 158, 208: 193, 209: 192, 210: 156, 211: 160, 212: 157, 213: 190, 214: 191, 247: 171, 257: 182, 258: 181, 93: 42, 35: 106, 10: 2, 248: 174, 102: 16, 269: 187, 126: 136, 162: 81, 138: 114, 103: 102, 104: 122, 105: 14, 262: 213, 263: 232, 139: 80, 11: 263, 36: 287, 37: 20, 38: 104, 39: 21, 58: 126, 106: 233, 1: 161, 2: 99, 3: 289, 107: 271, 189: 238, 40: 123, 94: 41, 127: 67, 108: 149, 109: 150, 110: 50, 198: 247, 227: 194, 199: 248, 235: 196, 221: 200, 204: 207, 190: 209, 205: 228, 215: 239, 222: 261, 41: 28, 42: 27, 43: 26, 44: 124, 45: 25, 46: 105, 193: 208, 75: 52, 95: 128, 96: 39, 140: 75, 59: 34, 60: 220, 61: 35, 62: 236, 232: 255, 233: 290, 277: 275, 8: 117, 9: 168, 63: 162, 64: 107, 65: 244, 66: 36, 141: 138, 142: 254, 143: 77, 144: 268, 145: 79, 146: 137, 147: 76, 148: 113, 25: 266, 170: 219, 128: 245, 163: 73, 129: 293, 130: 70, 131: 68, 132: 112, 200: 205, 47: 24, 259: 241, 236: 282, 171: 91, 164: 259, 133: 71, 149: 78, 134: 72, 172: 146, 173: 167, 180: 166, 174: 92, 175: 89, 150: 93, 12: 101, 165: 82, 267: 234, 238: 173, 135: 69, 111: 58, 97: 127, 76: 66, 77: 135, 78: 65, 79: 64, 26: 267, 278: 274, 239: 154, 176: 147, 223: 291, 224: 201, 225: 198, 219: 197, 201: 206, 195: 231, 203: 203, 279: 279, 280: 286, 281: 242, 80: 56, 98: 129, 112: 130, 81: 57, 82: 53, 228: 195, 270: 185, 282: 188, 181: 215, 182: 165, 183: 164, 184: 94, 275: 270, 276: 272, 27: 8, 194: 210, 191: 224, 192: 223, 13: 278, 196: 202, 14: 3, 83: 62, 84: 63, 15: 119, 16: 4, 48: 22, 49: 218, 85: 54, 17: 118, 50: 103, 261: 183, 4: 100, 264: 214, 265: 273, 166: 230, 202: 237, 86: 253, 5: 276, 18: 5, 87: 55, 185: 95, 113: 216, 114: 46, 67: 33, 271: 257, 240: 153, 266: 251, 244: 222, 241: 277, 272: 186, 245: 151, 283: 189, 260: 179, 252: 155, 273: 252, 242: 262, 246: 170, 254: 177, 255: 178, 28: 11, 68: 148, 115: 15, 51: 243, 19: 280, 116: 131, 117: 51, 69: 37, 118: 115, 119: 19, 120: 17, 121: 49, 88: 134, 52: 23, 29: 12, 89: 59, 20: 1, 151: 139, 122: 48, 30: 13, 31: 18, 123: 109, 70: 32, 253: 175, 71: 285, 99: 43, 53: 30, 32: 120, 33: 121, 34: 7, 268: 184, 90: 61, 124: 116, 167: 83, 72: 288, 226: 283, 243: 169, 54: 29, 186: 260, 187: 256, 218: 227, 216: 269, 217: 229}\n"
     ]
    }
   ],
   "source": [
    "dict_newterminal = dict([(i,a) for i,a in zip(df_merge['번호_x'],df_merge['번호_y'])])\n",
    "print(dict_newterminal)"
   ]
  },
  {
   "cell_type": "code",
   "execution_count": 127,
   "id": "49f631fd-4af4-4145-b760-b94205d78f53",
   "metadata": {},
   "outputs": [],
   "source": [
    "dnum = list(df_nubi06['출발터미널'])\n",
    "departnum_terminal_lst = []\n",
    "for i in dnum:\n",
    "    if (i>283) or (i==24):\n",
    "        departnum_terminal_lst.append('')\n",
    "        continue\n",
    "    departnum_terminal_lst.append(dict_newterminal[i])\n",
    "    "
   ]
  },
  {
   "cell_type": "code",
   "execution_count": 128,
   "id": "bf816faa-d37d-42ef-99dd-679b3964400b",
   "metadata": {},
   "outputs": [],
   "source": [
    "rnum = list(df_nubi06['도착터미널'])\n",
    "arrivenum_terminal_lst = []\n",
    "for i in rnum:\n",
    "    if (i>283) or (i==24):\n",
    "        arrivenum_terminal_lst.append('')\n",
    "        continue\n",
    "    arrivenum_terminal_lst.append(dict_newterminal[i])\n",
    " "
   ]
  },
  {
   "cell_type": "code",
   "execution_count": 129,
   "id": "e741a73f-5e19-4d33-b1cc-125c633c01c4",
   "metadata": {},
   "outputs": [
    {
     "data": {
      "text/html": [
       "<div>\n",
       "<style scoped>\n",
       "    .dataframe tbody tr th:only-of-type {\n",
       "        vertical-align: middle;\n",
       "    }\n",
       "\n",
       "    .dataframe tbody tr th {\n",
       "        vertical-align: top;\n",
       "    }\n",
       "\n",
       "    .dataframe thead th {\n",
       "        text-align: right;\n",
       "    }\n",
       "</style>\n",
       "<table border=\"1\" class=\"dataframe\">\n",
       "  <thead>\n",
       "    <tr style=\"text-align: right;\">\n",
       "      <th></th>\n",
       "      <th>자전거번호</th>\n",
       "      <th>출발터미널</th>\n",
       "      <th>출발일</th>\n",
       "      <th>출발시간</th>\n",
       "      <th>도착터미널</th>\n",
       "      <th>도착일</th>\n",
       "      <th>도착시간</th>\n",
       "      <th>new출발터미널</th>\n",
       "      <th>new도착터미널</th>\n",
       "    </tr>\n",
       "  </thead>\n",
       "  <tbody>\n",
       "    <tr>\n",
       "      <th>0</th>\n",
       "      <td>4918</td>\n",
       "      <td>214</td>\n",
       "      <td>2018-03-01</td>\n",
       "      <td>00:00:23</td>\n",
       "      <td>215</td>\n",
       "      <td>2018-03-01</td>\n",
       "      <td>00:02:51</td>\n",
       "      <td>191</td>\n",
       "      <td>239</td>\n",
       "    </tr>\n",
       "    <tr>\n",
       "      <th>1</th>\n",
       "      <td>7835</td>\n",
       "      <td>62</td>\n",
       "      <td>2018-03-01</td>\n",
       "      <td>00:00:54</td>\n",
       "      <td>64</td>\n",
       "      <td>2018-03-01</td>\n",
       "      <td>00:06:14</td>\n",
       "      <td>236</td>\n",
       "      <td>107</td>\n",
       "    </tr>\n",
       "    <tr>\n",
       "      <th>2</th>\n",
       "      <td>7916</td>\n",
       "      <td>274</td>\n",
       "      <td>2018-03-01</td>\n",
       "      <td>00:01:27</td>\n",
       "      <td>274</td>\n",
       "      <td>2018-03-01</td>\n",
       "      <td>00:01:30</td>\n",
       "      <td>292</td>\n",
       "      <td>292</td>\n",
       "    </tr>\n",
       "    <tr>\n",
       "      <th>3</th>\n",
       "      <td>7970</td>\n",
       "      <td>134</td>\n",
       "      <td>2018-03-01</td>\n",
       "      <td>00:01:36</td>\n",
       "      <td>54</td>\n",
       "      <td>2018-03-01</td>\n",
       "      <td>00:03:29</td>\n",
       "      <td>72</td>\n",
       "      <td>29</td>\n",
       "    </tr>\n",
       "    <tr>\n",
       "      <th>4</th>\n",
       "      <td>8199</td>\n",
       "      <td>287</td>\n",
       "      <td>2018-03-01</td>\n",
       "      <td>00:01:37</td>\n",
       "      <td>42</td>\n",
       "      <td>2018-03-01</td>\n",
       "      <td>00:11:21</td>\n",
       "      <td></td>\n",
       "      <td>27</td>\n",
       "    </tr>\n",
       "  </tbody>\n",
       "</table>\n",
       "</div>"
      ],
      "text/plain": [
       "   자전거번호  출발터미널         출발일      출발시간  도착터미널         도착일      도착시간 new출발터미널  \\\n",
       "0   4918    214  2018-03-01  00:00:23    215  2018-03-01  00:02:51      191   \n",
       "1   7835     62  2018-03-01  00:00:54     64  2018-03-01  00:06:14      236   \n",
       "2   7916    274  2018-03-01  00:01:27    274  2018-03-01  00:01:30      292   \n",
       "3   7970    134  2018-03-01  00:01:36     54  2018-03-01  00:03:29       72   \n",
       "4   8199    287  2018-03-01  00:01:37     42  2018-03-01  00:11:21            \n",
       "\n",
       "  new도착터미널  \n",
       "0      239  \n",
       "1      107  \n",
       "2      292  \n",
       "3       29  \n",
       "4       27  "
      ]
     },
     "execution_count": 129,
     "metadata": {},
     "output_type": "execute_result"
    }
   ],
   "source": [
    "df_nubi06['new출발터미널'] = departnum_terminal_lst\n",
    "df_nubi06['new도착터미널'] = arrivenum_terminal_lst\n",
    "df_nubi06.head()"
   ]
  },
  {
   "cell_type": "code",
   "execution_count": 130,
   "id": "f92bf310-6a07-4b7d-9295-c2d5cf5c978e",
   "metadata": {},
   "outputs": [],
   "source": [
    "df_nubi06.to_csv('data/3월_누비자반납이력.csv', encoding='cp949', mode='w', index=False)"
   ]
  }
 ],
 "metadata": {
  "kernelspec": {
   "display_name": "Python 3 (ipykernel)",
   "language": "python",
   "name": "python3"
  },
  "language_info": {
   "codemirror_mode": {
    "name": "ipython",
    "version": 3
   },
   "file_extension": ".py",
   "mimetype": "text/x-python",
   "name": "python",
   "nbconvert_exporter": "python",
   "pygments_lexer": "ipython3",
   "version": "3.9.12"
  }
 },
 "nbformat": 4,
 "nbformat_minor": 5
}
