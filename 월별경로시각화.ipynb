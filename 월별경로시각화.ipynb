{
 "cells": [
  {
   "cell_type": "markdown",
   "id": "c34b71b2-934d-4f92-bcaf-0dde6b78d36d",
   "metadata": {},
   "source": [
    "# 1. 데이터 불러오기"
   ]
  },
  {
   "cell_type": "code",
   "execution_count": 1,
   "id": "d3ee8262-e944-4b30-b21e-54c6088f4239",
   "metadata": {},
   "outputs": [],
   "source": [
    "import pandas as pd"
   ]
  },
  {
   "cell_type": "code",
   "execution_count": 2,
   "id": "105cc424-d0b5-46bc-9d79-8f0fc4a76aac",
   "metadata": {},
   "outputs": [],
   "source": [
    "for i in range(3, 13):\n",
    "    globals()['df_path{}'.format(i)] = pd.read_excel('data/path/path_count{}.xlsx'.format(i), engine='openpyxl')"
   ]
  },
  {
   "cell_type": "code",
   "execution_count": 3,
   "id": "6eaef264-d3c2-4298-b6f2-509b2eebf6ee",
   "metadata": {},
   "outputs": [],
   "source": [
    "def sumPath(df_path):\n",
    "    pathsum = df_path['개수'].sum()\n",
    "    return pathsum"
   ]
  },
  {
   "cell_type": "code",
   "execution_count": 4,
   "id": "eebcb9bc-ff63-4925-9720-632c0daa1a1f",
   "metadata": {},
   "outputs": [],
   "source": [
    "pathsum3 = sumPath(df_path3)\n",
    "pathsum4 = sumPath(df_path4)\n",
    "pathsum5 = sumPath(df_path5)\n",
    "pathsum6 = sumPath(df_path6)\n",
    "pathsum7 = sumPath(df_path7)\n",
    "pathsum8 = sumPath(df_path8)\n",
    "pathsum9 = sumPath(df_path9)\n",
    "pathsum10 = sumPath(df_path10)\n",
    "pathsum11 = sumPath(df_path11)\n",
    "pathsum12 = sumPath(df_path12)\n",
    "pathsum_lst = [pathsum3, pathsum4, pathsum5, pathsum6, pathsum7, pathsum8, pathsum9, pathsum10, pathsum11, pathsum12]\n",
    "month_lst = [i for i in range(3,13)]"
   ]
  },
  {
   "cell_type": "markdown",
   "id": "ea50b4b6-7eef-4df3-a4e0-db16ba32b558",
   "metadata": {},
   "source": [
    "# 2. 월별 누비자 이용합계 추출 및 시각화"
   ]
  },
  {
   "cell_type": "code",
   "execution_count": 5,
   "id": "f3d89950-8a5f-4cd6-8d7c-f008c27a3b32",
   "metadata": {},
   "outputs": [],
   "source": [
    "data = {'month' :month_lst, 'sum' : pathsum_lst}\n",
    "df_sumPath = pd.DataFrame(data)"
   ]
  },
  {
   "cell_type": "code",
   "execution_count": 6,
   "id": "b97e2ff3-f87a-4f6d-96ef-c3bd219cf807",
   "metadata": {},
   "outputs": [
    {
     "data": {
      "text/html": [
       "<div>\n",
       "<style scoped>\n",
       "    .dataframe tbody tr th:only-of-type {\n",
       "        vertical-align: middle;\n",
       "    }\n",
       "\n",
       "    .dataframe tbody tr th {\n",
       "        vertical-align: top;\n",
       "    }\n",
       "\n",
       "    .dataframe thead th {\n",
       "        text-align: right;\n",
       "    }\n",
       "</style>\n",
       "<table border=\"1\" class=\"dataframe\">\n",
       "  <thead>\n",
       "    <tr style=\"text-align: right;\">\n",
       "      <th></th>\n",
       "      <th>month</th>\n",
       "      <th>sum</th>\n",
       "    </tr>\n",
       "  </thead>\n",
       "  <tbody>\n",
       "    <tr>\n",
       "      <th>0</th>\n",
       "      <td>3</td>\n",
       "      <td>351886</td>\n",
       "    </tr>\n",
       "    <tr>\n",
       "      <th>1</th>\n",
       "      <td>4</td>\n",
       "      <td>426451</td>\n",
       "    </tr>\n",
       "    <tr>\n",
       "      <th>2</th>\n",
       "      <td>5</td>\n",
       "      <td>450566</td>\n",
       "    </tr>\n",
       "    <tr>\n",
       "      <th>3</th>\n",
       "      <td>6</td>\n",
       "      <td>465825</td>\n",
       "    </tr>\n",
       "    <tr>\n",
       "      <th>4</th>\n",
       "      <td>7</td>\n",
       "      <td>452868</td>\n",
       "    </tr>\n",
       "    <tr>\n",
       "      <th>5</th>\n",
       "      <td>8</td>\n",
       "      <td>429276</td>\n",
       "    </tr>\n",
       "    <tr>\n",
       "      <th>6</th>\n",
       "      <td>9</td>\n",
       "      <td>428761</td>\n",
       "    </tr>\n",
       "    <tr>\n",
       "      <th>7</th>\n",
       "      <td>10</td>\n",
       "      <td>494735</td>\n",
       "    </tr>\n",
       "    <tr>\n",
       "      <th>8</th>\n",
       "      <td>11</td>\n",
       "      <td>421493</td>\n",
       "    </tr>\n",
       "    <tr>\n",
       "      <th>9</th>\n",
       "      <td>12</td>\n",
       "      <td>297767</td>\n",
       "    </tr>\n",
       "  </tbody>\n",
       "</table>\n",
       "</div>"
      ],
      "text/plain": [
       "   month     sum\n",
       "0      3  351886\n",
       "1      4  426451\n",
       "2      5  450566\n",
       "3      6  465825\n",
       "4      7  452868\n",
       "5      8  429276\n",
       "6      9  428761\n",
       "7     10  494735\n",
       "8     11  421493\n",
       "9     12  297767"
      ]
     },
     "execution_count": 6,
     "metadata": {},
     "output_type": "execute_result"
    }
   ],
   "source": [
    "df_sumPath"
   ]
  },
  {
   "cell_type": "code",
   "execution_count": 7,
   "id": "41748377-68e0-498a-851f-33634ea0c3f7",
   "metadata": {},
   "outputs": [
    {
     "data": {
      "text/plain": [
       "<AxesSubplot:xlabel='month'>"
      ]
     },
     "execution_count": 7,
     "metadata": {},
     "output_type": "execute_result"
    },
    {
     "data": {
      "image/png": "[encoded data removed]",
      "text/plain": [
       "<Figure size 720x360 with 1 Axes>"
      ]
     },
     "metadata": {
      "needs_background": "light"
     },
     "output_type": "display_data"
    }
   ],
   "source": [
    "df_sumPath.plot.bar(x='month', y='sum', rot=0, figsize=(10,5))"
   ]
  },
  {
   "cell_type": "markdown",
   "id": "b7d8d0bd-cf11-4d3f-b09d-4d5d8e3de491",
   "metadata": {},
   "source": [
    "# 3. 월별누비자이용합계 csv추출"
   ]
  },
  {
   "cell_type": "code",
   "execution_count": 8,
   "id": "934da513-405d-4df4-b0e0-18b1c70eaec2",
   "metadata": {},
   "outputs": [],
   "source": [
    "df_sumPath.to_csv('data/월별누비자이용합계.csv', encoding='cp949', mode='w', index=False)"
   ]
  }
 ],
 "metadata": {
  "kernelspec": {
   "display_name": "Python 3 (ipykernel)",
   "language": "python",
   "name": "python3"
  },
  "language_info": {
   "codemirror_mode": {
    "name": "ipython",
    "version": 3
   },
   "file_extension": ".py",
   "mimetype": "text/x-python",
   "name": "python",
   "nbconvert_exporter": "python",
   "pygments_lexer": "ipython3",
   "version": "3.9.12"
  }
 },
 "nbformat": 4,
 "nbformat_minor": 5
}
